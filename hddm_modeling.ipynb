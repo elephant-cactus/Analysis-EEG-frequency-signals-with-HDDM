{
 "cells": [
  {
   "cell_type": "code",
   "execution_count": 1,
   "metadata": {},
   "outputs": [
    {
     "ename": "ModuleNotFoundError",
     "evalue": "No module named 'hddm'",
     "output_type": "error",
     "traceback": [
      "\u001b[1;31m---------------------------------------------------------------------------\u001b[0m",
      "\u001b[1;31mModuleNotFoundError\u001b[0m                       Traceback (most recent call last)",
      "Cell \u001b[1;32mIn[1], line 1\u001b[0m\n\u001b[1;32m----> 1\u001b[0m \u001b[38;5;28;01mimport\u001b[39;00m \u001b[38;5;21;01mhddm\u001b[39;00m \u001b[38;5;66;03m# 导入hddm包\u001b[39;00m\n\u001b[0;32m      2\u001b[0m \u001b[38;5;28;01mfrom\u001b[39;00m \u001b[38;5;21;01mpatsy\u001b[39;00m \u001b[38;5;28;01mimport\u001b[39;00m dmatrix \u001b[38;5;66;03m# 从patsy包中导入dmatrix包\u001b[39;00m\n\u001b[0;32m      3\u001b[0m \u001b[38;5;28;01mimport\u001b[39;00m \u001b[38;5;21;01mwarnings\u001b[39;00m \u001b[38;5;66;03m# 导入warnings包\u001b[39;00m\n",
      "\u001b[1;31mModuleNotFoundError\u001b[0m: No module named 'hddm'"
     ]
    }
   ],
   "source": [
    "import hddm # 导入hddm包\n",
    "from patsy import dmatrix # 从patsy包中导入dmatrix包\n",
    "import warnings # 导入warnings包\n",
    "\n",
    "# 用来组织弹出警告提示\n",
    "warnings.filterwarnings('ignore', category=FutureWarning)\n",
    "\n",
    "# 导入数据，使用hddm中的load_csv函数\n",
    "data = hddm.load_csv(r'D:\\python_data_file\\TFA_HDDM\\combined_data.csv', encoding='utf-8')\n",
    "data"
   ]
  },
  {
   "cell_type": "code",
   "execution_count": null,
   "metadata": {},
   "outputs": [],
   "source": [
    "# 数据准备\n",
    "# 从数据中提取四个数据集，用于拟合模型\n",
    "# 全数据集\n",
    "all_data = data\n",
    "# 只包含刺激2和刺激3的trial数据集（安全且确定组）\n",
    "safe_certain_df = data[(data['similarity']==2)|(data['similarity']==3)]\n",
    "# 只包含刺激5和刺激6的trial数据集（不确定组）\n",
    "uncertain_df = data[(data['similarity']==5)|(data['similarity']==6)]\n",
    "# 只包含刺激8和9的trial数据集（威胁且确定组）\n",
    "threat_certain_df = data[(data['similarity']==8)|(data['similarity']==9)]\n",
    "\n",
    "# 名字与其对应的数据集组成的字典\n",
    "data_dic = {'all_df':all_data,'safe_certain_df':safe_certain_df,'uncertain_df':uncertain_df,'threat_certain_df':threat_certain_df}"
   ]
  },
  {
   "cell_type": "markdown",
   "metadata": {},
   "source": [
    "#### 第一个问题"
   ]
  },
  {
   "cell_type": "code",
   "execution_count": null,
   "metadata": {},
   "outputs": [],
   "source": [
    "# mPFC的能量活动是否与决策阈限变化显著相关，这种相关性在不同确定性刺激条件下是否有差异？\n",
    "# 对于数据列表中的每一个数据集\n",
    "\n",
    "# 设定影响a的变量，这里选取FPZ每个trial上的alpha波能量为例子，当然也可以选取不同的能量，或者对多个通道做平均值，然后再分析\n",
    "var = 'alpha_FPZ'\n",
    "\n",
    "for name,df in data_dic.items():\n",
    "    # 声明模型\n",
    "    model = hddm.HDDMRegressor(df, f\"a~{var}\", bias=True, p_outlier=0.05, keep_regressor_trace=True, group_only_regressors=True)\n",
    "    # 找MCMC起始点\n",
    "    model.find_starting_values()\n",
    "    # 使用MCMC抽样估计参数值，抽5000，前2000样本算作马尔科夫链启动时预热样本，需要丢弃，将MCMC的采样过程信息保存为trace文件，形式是二进制文本‘pickle’\n",
    "    model.sample(5000, burn=2000, dbname=rf'D:\\python_data_file\\TFA_HDDM\\trace_mono_{name}', db='pickle')\n",
    "    # 保存模型拟合的结果（比如参数的值等等），路径为预先设定好的路径，名字为model_mono...\n",
    "    model.save(rf'D:\\python_data_file\\TFA_HDDM\\model_mono_{name}')\n"
   ]
  },
  {
   "cell_type": "code",
   "execution_count": 1,
   "metadata": {},
   "outputs": [
    {
     "ename": "NameError",
     "evalue": "name 'hddm' is not defined",
     "output_type": "error",
     "traceback": [
      "\u001b[1;31m---------------------------------------------------------------------------\u001b[0m",
      "\u001b[1;31mNameError\u001b[0m                                 Traceback (most recent call last)",
      "Cell \u001b[1;32mIn[1], line 2\u001b[0m\n\u001b[0;32m      1\u001b[0m \u001b[38;5;66;03m# 把上面四个模型结果加载，以便提取模型中的参数值\u001b[39;00m\n\u001b[1;32m----> 2\u001b[0m m1 \u001b[38;5;241m=\u001b[39m \u001b[43mhddm\u001b[49m\u001b[38;5;241m.\u001b[39mload(\u001b[38;5;124mr\u001b[39m\u001b[38;5;124m'\u001b[39m\u001b[38;5;124mD:\u001b[39m\u001b[38;5;124m\\\u001b[39m\u001b[38;5;124mpython_data_file\u001b[39m\u001b[38;5;124m\\\u001b[39m\u001b[38;5;124mTFA_HDDM\u001b[39m\u001b[38;5;124m\\\u001b[39m\u001b[38;5;124mmodel_mono_all_df\u001b[39m\u001b[38;5;124m'\u001b[39m)\n\u001b[0;32m      3\u001b[0m m2 \u001b[38;5;241m=\u001b[39m hddm\u001b[38;5;241m.\u001b[39mload(\u001b[38;5;124mr\u001b[39m\u001b[38;5;124m'\u001b[39m\u001b[38;5;124mD:\u001b[39m\u001b[38;5;124m\\\u001b[39m\u001b[38;5;124mpython_data_file\u001b[39m\u001b[38;5;124m\\\u001b[39m\u001b[38;5;124mTFA_HDDM\u001b[39m\u001b[38;5;124m\\\u001b[39m\u001b[38;5;124mmodel_mono_safe_certain_df\u001b[39m\u001b[38;5;124m'\u001b[39m)\n\u001b[0;32m      4\u001b[0m m3 \u001b[38;5;241m=\u001b[39m hddm\u001b[38;5;241m.\u001b[39mload(\u001b[38;5;124mr\u001b[39m\u001b[38;5;124m'\u001b[39m\u001b[38;5;124mD:\u001b[39m\u001b[38;5;124m\\\u001b[39m\u001b[38;5;124mpython_data_file\u001b[39m\u001b[38;5;124m\\\u001b[39m\u001b[38;5;124mTFA_HDDM\u001b[39m\u001b[38;5;124m\\\u001b[39m\u001b[38;5;124mmodel_mono_uncertain_df\u001b[39m\u001b[38;5;124m'\u001b[39m)\n",
      "\u001b[1;31mNameError\u001b[0m: name 'hddm' is not defined"
     ]
    }
   ],
   "source": [
    "# 把上面四个模型结果加载，以便提取模型中的参数值\n",
    "m1 = hddm.load(r'D:\\python_data_file\\TFA_HDDM\\model_mono_all_df')\n",
    "m2 = hddm.load(r'D:\\python_data_file\\TFA_HDDM\\model_mono_safe_certain_df')\n",
    "m3 = hddm.load(r'D:\\python_data_file\\TFA_HDDM\\model_mono_uncertain_df')\n",
    "m4 = hddm.load(r'D:\\python_data_file\\TFA_HDDM\\model_mono_threat_certain_df')\n",
    "\n",
    "# 提取这四个模型中自变量的系数后验概率密度图（a~β*power）\n",
    "m1_beta = m1.nodes_db.node[f'a_{var}']\n",
    "m2_beta = m2.nodes_db.node[f'a_{var}']\n",
    "m3_beta = m3.nodes_db.node[f'a_{var}']\n",
    "m4_beta = m4.nodes_db.node[f'a_{var}']\n",
    "\n",
    "# 画这四个系数的后验概率密度图\n",
    "hddm.analyze.plot_posterior_nodes([m1_beta, m2_beta, m3_beta,m4_beta])\n",
    "\n",
    "# 贝叶斯统计检验\n",
    "print((m4_beta.trace()>0).mean())"
   ]
  },
  {
   "cell_type": "markdown",
   "metadata": {},
   "source": [
    "#### 第二个问题"
   ]
  },
  {
   "cell_type": "code",
   "execution_count": null,
   "metadata": {},
   "outputs": [],
   "source": [
    "# 设定影响a的变量，这里选取FPZ每个trial上的alpha波能量为例子，加入状态焦虑探索人格是否有调节作用\n",
    "var1 = 'alpha_FPZ'\n",
    "var2= 'Sanxiety'\n",
    "\n",
    "for name,df in data_dic.items():\n",
    "    # 声明模型\n",
    "    model = hddm.HDDMRegressor(df, f\"a~{var1}*{var2}\", bias=True, p_outlier=0.05, keep_regressor_trace=True, group_only_regressors=True)\n",
    "    # 找MCMC起始点\n",
    "    model.find_starting_values()\n",
    "    # MCMC抽样，抽5000，前2000样本算作马尔科夫链启动时预热样本，需要丢弃，将MCMC的采样过程信息保存为trace文件，形式是二进制文本‘pickle’\n",
    "    model.sample(5000, burn=2000, dbname=rf'D:\\python_data_file\\TFA_HDDM\\trace_bin_{name}', db='pickle')\n",
    "    # 保存模型拟合的结果（比如参数的值等等），路径为预先设定好的路径，名字为model_bin...\n",
    "    model.save(rf'D:\\python_data_file\\TFA_HDDM\\model_bin_{name}')\n",
    "\n",
    "    # 把上面四个模型结果加载，以便提取模型中的参数值\n",
    "m1 = hddm.load(r'D:\\python_data_file\\TFA_HDDM\\model_bin_all_df')\n",
    "m2 = hddm.load(r'D:\\python_data_file\\TFA_HDDM\\model_bin_safe_certain_df')\n",
    "m3 = hddm.load(r'D:\\python_data_file\\TFA_HDDM\\model_bin_uncertain_df')\n",
    "m4 = hddm.load(r'D:\\python_data_file\\TFA_HDDM\\model_bin_threat_certain_df')\n",
    "\n",
    "# 提取这四个模型中交互项的系数后验概率密度图（a~β*power）\n",
    "m1_beta = m1.nodes_db.node[f'a_{var1}:{var2}']\n",
    "m2_beta = m2.nodes_db.node[f'a_{var1}:{var2}']\n",
    "m3_beta = m3.nodes_db.node[f'a_{var1}:{var2}']\n",
    "m4_beta = m4.nodes_db.node[f'a_{var1}:{var2}']\n",
    "\n",
    "# 画这四个系数的后验概率密度图\n",
    "hddm.analyze.plot_posterior_nodes([m1_beta, m2_beta, m3_beta,m4_beta])\n",
    "\n",
    "# 贝叶斯统计检验\n",
    "# 略"
   ]
  }
 ],
 "metadata": {
  "kernelspec": {
   "display_name": "hddm_analyzer",
   "language": "python",
   "name": "python3"
  },
  "language_info": {
   "codemirror_mode": {
    "name": "ipython",
    "version": 3
   },
   "file_extension": ".py",
   "mimetype": "text/x-python",
   "name": "python",
   "nbconvert_exporter": "python",
   "pygments_lexer": "ipython3",
   "version": "3.8.7"
  }
 },
 "nbformat": 4,
 "nbformat_minor": 2
}
